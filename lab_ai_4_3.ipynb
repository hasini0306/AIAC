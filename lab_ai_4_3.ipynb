{
  "nbformat": 4,
  "nbformat_minor": 0,
  "metadata": {
    "colab": {
      "provenance": [],
      "authorship_tag": "ABX9TyMvToc109wku6v/AYASatTo",
      "include_colab_link": true
    },
    "kernelspec": {
      "name": "python3",
      "display_name": "Python 3"
    },
    "language_info": {
      "name": "python"
    }
  },
  "cells": [
    {
      "cell_type": "markdown",
      "metadata": {
        "id": "view-in-github",
        "colab_type": "text"
      },
      "source": [
        "<a href=\"https://colab.research.google.com/github/hasini0306/AIAC/blob/main/lab_ai_4_3.ipynb\" target=\"_parent\"><img src=\"https://colab.research.google.com/assets/colab-badge.svg\" alt=\"Open In Colab\"/></a>"
      ]
    },
    {
      "cell_type": "code",
      "execution_count": null,
      "metadata": {
        "id": "SNXJhg4Ila_s"
      },
      "outputs": [],
      "source": [
        "Prompt AI to write a function that checks whether a given year is a leap\n",
        "year."
      ]
    },
    {
      "cell_type": "code",
      "metadata": {
        "id": "f875dbd2"
      },
      "source": [
        "def is_leap(year):\n",
        "  \"\"\"\n",
        "  Checks if a given year is a leap year.\n",
        "\n",
        "  Args:\n",
        "    year: The year to check (integer).\n",
        "\n",
        "  Returns:\n",
        "    True if the year is a leap year, False otherwise.\n",
        "  \"\"\"\n",
        "  return (year % 4 == 0 and year % 100 != 0) or (year % 400 == 0)"
      ],
      "execution_count": 1,
      "outputs": []
    },
    {
      "cell_type": "markdown",
      "metadata": {
        "id": "ed8e6689"
      },
      "source": [
        "This function `is_leap(year)` takes an integer `year` as input and returns `True` if it's a leap year, and `False` otherwise.\n",
        "\n",
        "Here's how the logic works:\n",
        "\n",
        "*   A year is a leap year if it is divisible by 4.\n",
        "*   However, if a year is divisible by 100, it is NOT a leap year, UNLESS...\n",
        "*   ...the year is also divisible by 400. In that case, it IS a leap year.\n",
        "\n",
        "The code implements this logic using the modulo operator (`%`) to check for divisibility and logical operators (`and`, `or`) to combine the conditions."
      ]
    },
    {
      "cell_type": "code",
      "source": [
        "Give one input-output example to guide AI in writing a function that\n",
        "converts centimeters to inches."
      ],
      "metadata": {
        "id": "lhxpjh6imOIC"
      },
      "execution_count": null,
      "outputs": []
    },
    {
      "cell_type": "markdown",
      "metadata": {
        "id": "f965860d"
      },
      "source": [
        "**Input:** `10` (centimeters)\n",
        "\n",
        "**Expected Output:** `3.93701` (inches)\n",
        "\n",
        "**Explanation:**\n",
        "\n",
        "This example demonstrates the conversion of 10 centimeters to its equivalent in inches. The conversion factor is approximately 1 inch = 2.54 centimeters. Therefore, to convert centimeters to inches, you divide the number of centimeters by 2.54. In this case, 10 centimeters divided by 2.54 is approximately 3.93701 inches."
      ]
    },
    {
      "cell_type": "code",
      "metadata": {
        "id": "9de64bd4"
      },
      "source": [
        "def cm_to_inches(cm):\n",
        "  \"\"\"\n",
        "  Converts a measurement in centimeters to inches.\n",
        "\n",
        "  Args:\n",
        "    cm: The measurement in centimeters (float or int).\n",
        "\n",
        "  Returns:\n",
        "    The equivalent measurement in inches (float).\n",
        "  \"\"\"\n",
        "  return cm / 2.54"
      ],
      "execution_count": 2,
      "outputs": []
    },
    {
      "cell_type": "markdown",
      "metadata": {
        "id": "bce821c3"
      },
      "source": [
        "This code defines a Python function called `cm_to_inches` that takes one argument, `cm`, which represents the measurement in centimeters.\n",
        "\n",
        "*   **`def cm_to_inches(cm):`**: This line defines the function named `cm_to_inches` and indicates that it accepts one argument, `cm`.\n",
        "*   **`\"\"\" Docstring \"\"\"`**: This is a docstring, which explains what the function does, its arguments, and what it returns.\n",
        "*   **`return cm / 2.54`**: This line performs the conversion. It divides the input value `cm` by 2.54 (the conversion factor from centimeters to inches) and returns the result."
      ]
    },
    {
      "cell_type": "code",
      "source": [
        "Provide 2–3 examples to generate a function that formats full names as\n",
        "“Last, First”."
      ],
      "metadata": {
        "id": "OvN4kHzMnCGj"
      },
      "execution_count": null,
      "outputs": []
    },
    {
      "cell_type": "markdown",
      "metadata": {
        "id": "ffa4e1e8"
      },
      "source": [
        "Here are a few examples to guide in generating a function that formats full names as \"Last, First\":\n",
        "\n",
        "**Example 1:**\n",
        "\n",
        "*   **Input:** `\"John Doe\"`\n",
        "*   **Expected Output:** `\"Doe, John\"`\n",
        "*   **Explanation:** The function should take the full name as a single string, split it into first and last names, and then recombine them in the \"Last, First\" format.\n",
        "\n",
        "**Example 2:**\n",
        "\n",
        "*   **Input:** `\"Jane Smith\"`\n",
        "*   **Expected Output:** `\"Smith, Jane\"`\n",
        "*   **Explanation:** Similar to the first example, this shows another common name structure.\n",
        "\n",
        "**Example 3 (Optional - for names with more parts):**\n",
        "\n",
        "*   **Input:** `\"Peter Van Der Waals\"`\n",
        "*   **Expected Output:** `\"Van Der Waals, Peter\"`\n",
        "*   **Explanation:** This example considers names with more than two parts and suggests how the function might handle them (e.g., assuming the last part is the last name, or handling multi-part last names)."
      ]
    },
    {
      "cell_type": "code",
      "metadata": {
        "id": "8d00f30e"
      },
      "source": [
        "def format_name(full_name):\n",
        "  \"\"\"\n",
        "  Formats a full name string as \"Last, First\".\n",
        "\n",
        "  Args:\n",
        "    full_name: The full name string (e.g., \"John Doe\").\n",
        "\n",
        "  Returns:\n",
        "    The formatted name string as \"Last, First\" (e.g., \"Doe, John\").\n",
        "    Returns the original string if it cannot be split into at least two parts.\n",
        "  \"\"\"\n",
        "  name_parts = full_name.split()\n",
        "  if len(name_parts) >= 2:\n",
        "    # Assuming the last part is the last name and the rest is the first name(s)\n",
        "    last_name = name_parts[-1]\n",
        "    first_names = \" \".join(name_parts[:-1])\n",
        "    return f\"{last_name}, {first_names}\"\n",
        "  else:\n",
        "    # Return original string if unable to split into at least two parts\n",
        "    return full_name"
      ],
      "execution_count": 3,
      "outputs": []
    },
    {
      "cell_type": "markdown",
      "metadata": {
        "id": "5880dc2a"
      },
      "source": [
        "This code defines a Python function called `format_name` that takes one argument, `full_name`, which is a string representing a person's full name.\n",
        "\n",
        "*   **`def format_name(full_name):`**: This line defines the function named `format_name` that accepts one argument, `full_name`.\n",
        "*   **`\"\"\" Docstring \"\"\"`**: This is a docstring explaining the function's purpose, arguments, and return value.\n",
        "*   **`name_parts = full_name.split()`**: This line splits the input `full_name` string into a list of substrings based on whitespace and stores them in the `name_parts` list. For example, `\"John Doe\"` becomes `[\"John\", \"Doe\"]`.\n",
        "*   **`if len(name_parts) >= 2:`**: This checks if the `name_parts` list has at least two elements. This is a basic check to ensure there's likely both a first and last name.\n",
        "*   **`last_name = name_parts[-1]`**: If there are at least two parts, this line takes the last element of the `name_parts` list and assigns it to the `last_name` variable. The index `[-1]` refers to the last element.\n",
        "*   **`first_names = \" \".join(name_parts[:-1])`**: This line takes all elements of the `name_parts` list *except* the last one (`[:-1]`) and joins them back together into a single string with spaces in between. This handles cases where the first name might have multiple parts (e.g., \"Mary Ann\").\n",
        "*   **`return f\"{last_name}, {first_names}\"`**: This line uses an f-string to format the `last_name` and `first_names` into the desired \"Last, First\" format and returns the resulting string.\n",
        "*   **`else: return full_name`**: If the `if` condition is not met (i.e., the name cannot be split into at least two parts), the original `full_name` string is returned. This handles cases like single-word names."
      ]
    },
    {
      "cell_type": "code",
      "source": [
        "Compare 1.Prompt AI to write a function that checks whether a given year is a leap\n",
        "year and 2.Give one input-output example to guide AI in writing a function that\n",
        "converts centimeters to inches. for writing a function that counts the\n",
        "number of vowels in a string."
      ],
      "metadata": {
        "id": "LWeIhIuQnT9x"
      },
      "execution_count": null,
      "outputs": []
    },
    {
      "cell_type": "code",
      "metadata": {
        "colab": {
          "base_uri": "https://localhost:8080/"
        },
        "id": "4a867697",
        "outputId": "b14a7b24-5f5c-4222-badd-01cc07fd24e3"
      },
      "source": [
        "def count_vowels(text):\n",
        "  \"\"\"\n",
        "  Counts the number of vowels (a, e, i, o, u) in a string, ignoring case.\n",
        "\n",
        "  Args:\n",
        "    text: The input string.\n",
        "\n",
        "  Returns:\n",
        "    The number of vowels in the string.\n",
        "  \"\"\"\n",
        "  vowels = \"aeiouAEIOU\"\n",
        "  vowel_count = 0\n",
        "  for char in text:\n",
        "    if char in vowels:\n",
        "      vowel_count += 1\n",
        "  return vowel_count\n",
        "\n",
        "# Example usage:\n",
        "input_string = \"Hello World\"\n",
        "num_vowels = count_vowels(input_string)\n",
        "print(f\"The number of vowels in '{input_string}' is: {num_vowels}\")\n",
        "\n",
        "input_string_2 = \"Programming is fun!\"\n",
        "num_vowels_2 = count_vowels(input_string_2)\n",
        "print(f\"The number of vowels in '{input_string_2}' is: {num_vowels_2}\")"
      ],
      "execution_count": 4,
      "outputs": [
        {
          "output_type": "stream",
          "name": "stdout",
          "text": [
            "The number of vowels in 'Hello World' is: 3\n",
            "The number of vowels in 'Programming is fun!' is: 5\n"
          ]
        }
      ]
    },
    {
      "cell_type": "markdown",
      "metadata": {
        "id": "babd416d"
      },
      "source": [
        "This code defines a Python function called `count_vowels` that takes one argument, `text`, which is the input string.\n",
        "\n",
        "*   **`def count_vowels(text):`**: This line defines the function named `count_vowels` that accepts one argument, `text`.\n",
        "*   **`\"\"\" Docstring \"\"\"`**: This is a docstring explaining the function's purpose, arguments, and return value.\n",
        "*   **`vowels = \"aeiouAEIOU\"`**: This line creates a string containing all lowercase and uppercase vowels. This is used to easily check if a character is a vowel.\n",
        "*   **`vowel_count = 0`**: This line initializes a variable `vowel_count` to 0. This variable will store the total number of vowels found in the string.\n",
        "*   **`for char in text:`**: This is a `for` loop that iterates through each character in the input `text` string.\n",
        "*   **`if char in vowels:`**: Inside the loop, this line checks if the current character (`char`) is present in the `vowels` string. This effectively checks if the character is a vowel (case-insensitive).\n",
        "*   **`vowel_count += 1`**: If the `if` condition is true (the character is a vowel), this line increments the `vowel_count` by 1.\n",
        "*   **`return vowel_count`**: After the loop has finished iterating through all characters in the string, this line returns the final value of `vowel_count`, which is the total number of vowels.\n",
        "*   **`# Example usage ...`**: This part of the code shows how to use the function with example strings and prints the results."
      ]
    },
    {
      "cell_type": "code",
      "source": [
        "Use Provide 2–3 examples to generate a function that formats full names as\n",
        "“Last, First”. prompting to generate a function that reads a .txt file and returns the\n",
        "number of lines."
      ],
      "metadata": {
        "id": "sE7Xk3FHpa7P"
      },
      "execution_count": null,
      "outputs": []
    },
    {
      "cell_type": "code",
      "metadata": {
        "id": "f2b306a6"
      },
      "source": [
        "def count_lines_in_file(filename):\n",
        "  \"\"\"\n",
        "  Reads a .txt file and returns the number of lines.\n",
        "\n",
        "  Args:\n",
        "    filename: The path to the text file (string).\n",
        "\n",
        "  Returns:\n",
        "    The number of lines in the file (integer), or -1 if the file is not found.\n",
        "  \"\"\"\n",
        "  try:\n",
        "    with open(filename, 'r') as f:\n",
        "      lines = f.readlines()\n",
        "      return len(lines)\n",
        "  except FileNotFoundError:\n",
        "    print(f\"Error: File '{filename}' not found.\")\n",
        "    return -1"
      ],
      "execution_count": 18,
      "outputs": []
    },
    {
      "cell_type": "markdown",
      "metadata": {
        "id": "68182c8c"
      },
      "source": [
        "This code defines a Python function called `count_lines_in_file` that takes one argument, `filename`, which is a string representing the path to a text file.\n",
        "\n",
        "*   **`def count_lines_in_file(filename):`**: This line defines the function named `count_lines_in_file` that accepts one argument, `filename`.\n",
        "*   **`\"\"\" Docstring \"\"\"`**: This is a docstring explaining the function's purpose, its arguments, and what it returns. It specifies that the function returns the number of lines or -1 if the file is not found.\n",
        "*   **`try:`**: This keyword begins a `try` block. Code within this block is attempted to be executed. If an error occurs during the execution of the code in the `try` block, the code within the corresponding `except` block is executed. This is used here to handle potential file-related errors.\n",
        "*   **`with open(filename, 'r') as f:`**: This line opens the file specified by `filename` in read mode (`'r'`). The `with` statement ensures that the file is automatically closed even if errors occur. The opened file object is assigned to the variable `f`.\n",
        "*   **`lines = f.readlines()`**: This line reads all lines from the opened file object `f` and stores them as a list of strings in the variable `lines`. Each element in the list represents a single line from the file, including the newline character (`\\n`) if present.\n",
        "*   **`return len(lines)`**: If the file is successfully opened and read, this line calculates the number of elements (lines) in the `lines` list using the `len()` function and returns this count.\n",
        "*   **`except FileNotFoundError:`**: This keyword begins an `except` block that specifically catches the `FileNotFoundError`. This error occurs when the file specified by `filename` does not exist.\n",
        "*   **`print(f\"Error: File '{filename}' not found.\")`**: If a `FileNotFoundError` is caught, this line prints an informative error message to the console, indicating that the specified file was not found.\n",
        "*   **`return -1`**: If a `FileNotFoundError` is caught, this line returns the value -1. This value serves as an indicator that the function was unable to count the lines because the file did not exist.\n",
        "\n",
        "In summary, the function attempts to open and read the specified file. If successful, it returns the number of lines. If the file is not found, it catches the `FileNotFoundError`, prints an informative error message, and returns -1."
      ]
    },
    {
      "cell_type": "code",
      "metadata": {
        "colab": {
          "base_uri": "https://localhost:8080/"
        },
        "id": "7164c818",
        "outputId": "5f7ff455-96eb-43b5-a407-fbf179b22067"
      },
      "source": [
        "# Use the function with the dummy files\n",
        "dummy_file_lines = count_lines_in_file(\"dummy_file.txt\")\n",
        "print(f\"The number of lines in 'dummy_file.txt' is: {dummy_file_lines}\")\n",
        "\n",
        "empty_file_lines = count_lines_in_file(\"empty_file.txt\")\n",
        "print(f\"The number of lines in 'empty_file.txt' is: {empty_file_lines}\")\n",
        "\n",
        "non_existent_file_lines = count_lines_in_file(\"non_existent_file.txt\")\n",
        "print(f\"The number of lines in 'non_existent_file.txt' is: {non_existent_file_lines}\")"
      ],
      "execution_count": 19,
      "outputs": [
        {
          "output_type": "stream",
          "name": "stdout",
          "text": [
            "The number of lines in 'dummy_file.txt' is: 3\n",
            "The number of lines in 'empty_file.txt' is: 0\n",
            "Error: File 'non_existent_file.txt' not found.\n",
            "The number of lines in 'non_existent_file.txt' is: -1\n"
          ]
        }
      ]
    }
  ]
}