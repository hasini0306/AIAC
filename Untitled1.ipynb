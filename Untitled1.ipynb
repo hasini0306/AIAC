{
  "nbformat": 4,
  "nbformat_minor": 0,
  "metadata": {
    "colab": {
      "provenance": [],
      "authorship_tag": "ABX9TyPNJ6+K9/wVCANewjixUCvq",
      "include_colab_link": true
    },
    "kernelspec": {
      "name": "python3",
      "display_name": "Python 3"
    },
    "language_info": {
      "name": "python"
    }
  },
  "cells": [
    {
      "cell_type": "markdown",
      "metadata": {
        "id": "view-in-github",
        "colab_type": "text"
      },
      "source": [
        "<a href=\"https://colab.research.google.com/github/hasini0306/AIAC/blob/main/Untitled1.ipynb\" target=\"_parent\"><img src=\"https://colab.research.google.com/assets/colab-badge.svg\" alt=\"Open In Colab\"/></a>"
      ]
    },
    {
      "cell_type": "code",
      "execution_count": null,
      "metadata": {
        "id": "yNGtvXXlapN4"
      },
      "outputs": [],
      "source": [
        "Prompt AI to write a function that checks whether a given year is a leap\n",
        "year."
      ]
    },
    {
      "cell_type": "code",
      "metadata": {
        "colab": {
          "base_uri": "https://localhost:8080/"
        },
        "id": "a90cb6db",
        "outputId": "59482272-d8be-4475-af95-67a442d7d48b"
      },
      "source": [
        "def is_leap_year(year):\n",
        "  \"\"\"\n",
        "  Checks if a given year is a leap year.\n",
        "\n",
        "  Args:\n",
        "    year: The year to check.\n",
        "\n",
        "  Returns:\n",
        "    True if the year is a leap year, False otherwise.\n",
        "  \"\"\"\n",
        "  if (year % 4 == 0 and year % 100 != 0) or (year % 400 == 0):\n",
        "    return True\n",
        "  else:\n",
        "    return False\n",
        "\n",
        "# Example usage:\n",
        "print(f\"Is 2024 a leap year? {is_leap_year(2024)}\")\n",
        "print(f\"Is 1900 a leap year? {is_leap_year(1900)}\")\n",
        "print(f\"Is 2000 a leap year? {is_leap_year(2000)}\")"
      ],
      "execution_count": 1,
      "outputs": [
        {
          "output_type": "stream",
          "name": "stdout",
          "text": [
            "Is 2024 a leap year? True\n",
            "Is 1900 a leap year? False\n",
            "Is 2000 a leap year? True\n"
          ]
        }
      ]
    },
    {
      "cell_type": "markdown",
      "metadata": {
        "id": "1e47442f"
      },
      "source": [
        "**Explanation of the `is_leap_year` function:**\n",
        "\n",
        "This function takes a single argument, `year`, which is the year you want to check.\n",
        "\n",
        "The logic for determining a leap year is based on these rules:\n",
        "\n",
        "1.  A year is a leap year if it is divisible by 4.\n",
        "2.  However, if the year is divisible by 100, it is *not* a leap year unless...\n",
        "3.  ...it is also divisible by 400.\n",
        "\n",
        "The `if` statement in the function implements these rules:\n",
        "\n",
        "-   `(year % 4 == 0 and year % 100 != 0)`: This part checks the first two rules. It returns `True` if the year is divisible by 4 but not by 100.\n",
        "-   `(year % 400 == 0)`: This part checks the third rule. It returns `True` if the year is divisible by 400.\n",
        "\n",
        "The `or` operator combines these conditions. If either of the conditions is `True`, the function returns `True` (the year is a leap year). Otherwise, it returns `False`.\n",
        "\n",
        "The example usage demonstrates how to call the function with different years and print the results."
      ]
    }
  ]
}