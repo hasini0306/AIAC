{
  "nbformat": 4,
  "nbformat_minor": 0,
  "metadata": {
    "colab": {
      "provenance": [],
      "authorship_tag": "ABX9TyMZJ0UCjmaBn46scCLJ4bNc",
      "include_colab_link": true
    },
    "kernelspec": {
      "name": "python3",
      "display_name": "Python 3"
    },
    "language_info": {
      "name": "python"
    }
  },
  "cells": [
    {
      "cell_type": "markdown",
      "metadata": {
        "id": "view-in-github",
        "colab_type": "text"
      },
      "source": [
        "<a href=\"https://colab.research.google.com/github/hasini0306/AIAC/blob/main/lab2_2_ai.ipynb\" target=\"_parent\"><img src=\"https://colab.research.google.com/assets/colab-badge.svg\" alt=\"Open In Colab\"/></a>"
      ]
    },
    {
      "cell_type": "markdown",
      "source": [
        "Task 1"
      ],
      "metadata": {
        "id": "sntnw6COMZiU"
      }
    },
    {
      "cell_type": "code",
      "source": [
        "write a function that filters out all negative numbers from a\n",
        "given list."
      ],
      "metadata": {
        "id": "gqDfc7wXMdmo"
      },
      "execution_count": null,
      "outputs": []
    },
    {
      "cell_type": "code",
      "metadata": {
        "colab": {
          "base_uri": "https://localhost:8080/"
        },
        "id": "1a6322bb",
        "outputId": "8da4c312-f65c-41fe-9e58-7fceb5c33862"
      },
      "source": [
        "def filter_negative_numbers(input_list):\n",
        "  \"\"\"Filters out negative numbers from a list.\n",
        "\n",
        "  Args:\n",
        "    input_list: A list of numbers.\n",
        "\n",
        "  Returns:\n",
        "    A new list containing only the non-negative numbers from the input list.\n",
        "  \"\"\"\n",
        "  return [number for number in input_list if number >= 0]\n",
        "\n",
        "# Example usage:\n",
        "my_list = [1, -2, 3, -4, 5, 0, -6]\n",
        "filtered_list = filter_negative_numbers(my_list)\n",
        "print(filtered_list)"
      ],
      "execution_count": 3,
      "outputs": [
        {
          "output_type": "stream",
          "name": "stdout",
          "text": [
            "[1, 3, 5, 0]\n"
          ]
        }
      ]
    },
    {
      "cell_type": "markdown",
      "source": [
        "Explaination:"
      ],
      "metadata": {
        "id": "3O7qsNeUNDZv"
      }
    },
    {
      "cell_type": "markdown",
      "source": [
        "No problem! This code snippet defines a Python function called filter_negative_numbers that takes a list as input and returns a new list containing only the non-negative numbers.\n",
        "\n",
        "Here's a breakdown:\n",
        "\n",
        "def filter_negative_numbers(input_list):: This line defines the function named filter_negative_numbers that accepts one argument, input_list.\n",
        "\"\"\"Filters out negative numbers from a list...\"\"\": This is a docstring, which explains what the function does, its arguments, and what it returns.\n",
        "return [number for number in input_list if number >= 0]: This is a list comprehension, a concise way to create lists in Python. It iterates through each number in the input_list. For each number, it checks if number >= 0 (meaning it's not negative). If the condition is true, the number is included in the new list that is being created and then returned by the function.\n",
        "# Example usage:: This is a comment indicating the following lines demonstrate how to use the function.\n",
        "my_list = [1, -2, 3, -4, 5, 0, -6]: This line creates a sample list called my_list with both positive and negative numbers, and zero.\n",
        "filtered_list = filter_negative_numbers(my_list): This line calls the filter_negative_numbers function with my_list as input and stores the returned filtered list in a new variable called filtered_list.\n",
        "print(filtered_list): This line prints the contents of the filtered_list to the console.\n",
        "In essence, the code efficiently creates a new list containing only the numbers from the original list that are greater than or equal to zero.\n",
        "\n"
      ],
      "metadata": {
        "id": "u7uT4CfGNH5f"
      }
    },
    {
      "cell_type": "markdown",
      "source": [],
      "metadata": {
        "id": "Oevb0kAINMLH"
      }
    }
  ]
}