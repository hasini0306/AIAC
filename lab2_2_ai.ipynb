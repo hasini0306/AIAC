{
  "nbformat": 4,
  "nbformat_minor": 0,
  "metadata": {
    "colab": {
      "provenance": [],
      "authorship_tag": "ABX9TyNaDxXRf5oo+FUp0Zm+5x6m",
      "include_colab_link": true
    },
    "kernelspec": {
      "name": "python3",
      "display_name": "Python 3"
    },
    "language_info": {
      "name": "python"
    }
  },
  "cells": [
    {
      "cell_type": "markdown",
      "metadata": {
        "id": "view-in-github",
        "colab_type": "text"
      },
      "source": [
        "<a href=\"https://colab.research.google.com/github/hasini0306/AIAC/blob/main/lab2_2_ai.ipynb\" target=\"_parent\"><img src=\"https://colab.research.google.com/assets/colab-badge.svg\" alt=\"Open In Colab\"/></a>"
      ]
    },
    {
      "cell_type": "markdown",
      "source": [
        "Task 1"
      ],
      "metadata": {
        "id": "sntnw6COMZiU"
      }
    },
    {
      "cell_type": "code",
      "source": [
        "write a function that filters out all negative numbers from a\n",
        "given list."
      ],
      "metadata": {
        "id": "gqDfc7wXMdmo"
      },
      "execution_count": null,
      "outputs": []
    },
    {
      "cell_type": "code",
      "metadata": {
        "colab": {
          "base_uri": "https://localhost:8080/"
        },
        "id": "1a6322bb",
        "outputId": "8da4c312-f65c-41fe-9e58-7fceb5c33862"
      },
      "source": [
        "def filter_negative_numbers(input_list):\n",
        "  \"\"\"Filters out negative numbers from a list.\n",
        "\n",
        "  Args:\n",
        "    input_list: A list of numbers.\n",
        "\n",
        "  Returns:\n",
        "    A new list containing only the non-negative numbers from the input list.\n",
        "  \"\"\"\n",
        "  return [number for number in input_list if number >= 0]\n",
        "\n",
        "# Example usage:\n",
        "my_list = [1, -2, 3, -4, 5, 0, -6]\n",
        "filtered_list = filter_negative_numbers(my_list)\n",
        "print(filtered_list)"
      ],
      "execution_count": 3,
      "outputs": [
        {
          "output_type": "stream",
          "name": "stdout",
          "text": [
            "[1, 3, 5, 0]\n"
          ]
        }
      ]
    },
    {
      "cell_type": "markdown",
      "source": [
        "Explaination:"
      ],
      "metadata": {
        "id": "3O7qsNeUNDZv"
      }
    },
    {
      "cell_type": "markdown",
      "source": [
        "No problem! This code snippet defines a Python function called filter_negative_numbers that takes a list as input and returns a new list containing only the non-negative numbers.\n",
        "\n",
        "Here's a breakdown:\n",
        "\n",
        "def filter_negative_numbers(input_list):: This line defines the function named filter_negative_numbers that accepts one argument, input_list.\n",
        "\"\"\"Filters out negative numbers from a list...\"\"\": This is a docstring, which explains what the function does, its arguments, and what it returns.\n",
        "return [number for number in input_list if number >= 0]: This is a list comprehension, a concise way to create lists in Python. It iterates through each number in the input_list. For each number, it checks if number >= 0 (meaning it's not negative). If the condition is true, the number is included in the new list that is being created and then returned by the function.\n",
        "# Example usage:: This is a comment indicating the following lines demonstrate how to use the function.\n",
        "my_list = [1, -2, 3, -4, 5, 0, -6]: This line creates a sample list called my_list with both positive and negative numbers, and zero.\n",
        "filtered_list = filter_negative_numbers(my_list): This line calls the filter_negative_numbers function with my_list as input and stores the returned filtered list in a new variable called filtered_list.\n",
        "print(filtered_list): This line prints the contents of the filtered_list to the console.\n",
        "In essence, the code efficiently creates a new list containing only the numbers from the original list that are greater than or equal to zero.\n",
        "\n"
      ],
      "metadata": {
        "id": "u7uT4CfGNH5f"
      }
    },
    {
      "cell_type": "markdown",
      "source": [
        "Task 2"
      ],
      "metadata": {
        "id": "Oevb0kAINMLH"
      }
    },
    {
      "cell_type": "code",
      "source": [
        "Ask Gemini to generate code that reads a text file and counts the frequency of each\n",
        "word. Then ask it to explain the code."
      ],
      "metadata": {
        "id": "ZPh4nhpPNlGR"
      },
      "execution_count": null,
      "outputs": []
    },
    {
      "cell_type": "markdown",
      "metadata": {
        "id": "5b819b4b"
      },
      "source": [
        "# Task\n",
        "Generate Python code that reads a text file and counts the frequency of each word. Then explain the generated code."
      ]
    },
    {
      "cell_type": "markdown",
      "metadata": {
        "id": "fbc94188"
      },
      "source": [
        "## Generate code\n",
        "\n",
        "### Subtask:\n",
        "Generate Python code that reads a text file, processes the text to count word frequencies, and prints the frequencies.\n"
      ]
    },
    {
      "cell_type": "markdown",
      "metadata": {
        "id": "c699a85e"
      },
      "source": [
        "**Reasoning**:\n",
        "Generate a Python function to read a text file, count word frequencies, and return the frequencies in a dictionary. Include example usage.\n",
        "\n"
      ]
    },
    {
      "cell_type": "markdown",
      "metadata": {
        "id": "435631c5"
      },
      "source": [
        "**Reasoning**:\n",
        "Generate a Python function to read a text file, count word frequencies, and return the frequencies in a dictionary. Include example usage."
      ]
    },
    {
      "cell_type": "code",
      "metadata": {
        "colab": {
          "base_uri": "https://localhost:8080/"
        },
        "id": "baa9cb7d",
        "outputId": "672cec80-cd53-405d-a47e-bddad65ecb30"
      },
      "source": [
        "import re\n",
        "from collections import Counter\n",
        "import os\n",
        "\n",
        "def count_word_frequencies(file_path):\n",
        "  \"\"\"Reads a text file and counts the frequency of each word.\n",
        "\n",
        "  Args:\n",
        "    file_path: The path to the text file.\n",
        "\n",
        "  Returns:\n",
        "    A dictionary where keys are words and values are their frequencies.\n",
        "  \"\"\"\n",
        "  word_frequencies = Counter()\n",
        "  try:\n",
        "    with open(file_path, 'r', encoding='utf-8') as f:\n",
        "      for line in f:\n",
        "        # Remove punctuation and convert to lowercase\n",
        "        line = re.sub(r'[^\\w\\s]', '', line).lower()\n",
        "        words = line.split()\n",
        "        word_frequencies.update(words)\n",
        "  except FileNotFoundError:\n",
        "    print(f\"Error: File not found at {file_path}\")\n",
        "    return None\n",
        "  except Exception as e:\n",
        "    print(f\"An error occurred: {e}\")\n",
        "    return None\n",
        "\n",
        "  return dict(word_frequencies)\n",
        "\n",
        "# Example usage:\n",
        "# Create a dummy text file for demonstration\n",
        "dummy_file_content = \"\"\"\n",
        "This is a sample text file for testing word frequency counting.\n",
        "This file is a sample.\n",
        "\"\"\"\n",
        "file_name = \"sample_text.txt\"\n",
        "with open(file_name, \"w\", encoding=\"utf-8\") as f:\n",
        "    f.write(dummy_file_content)\n",
        "\n",
        "if os.path.exists(file_name):\n",
        "  frequencies = count_word_frequencies(file_name)\n",
        "  if frequencies:\n",
        "    print(f\"Word frequencies in '{file_name}':\")\n",
        "    for word, frequency in frequencies.items():\n",
        "      print(f\"{word}: {frequency}\")\n",
        "  # Clean up the dummy file\n",
        "  os.remove(file_name)\n",
        "else:\n",
        "  print(f\"Failed to create dummy file {file_name}\")"
      ],
      "execution_count": 5,
      "outputs": [
        {
          "output_type": "stream",
          "name": "stdout",
          "text": [
            "Word frequencies in 'sample_text.txt':\n",
            "this: 2\n",
            "is: 2\n",
            "a: 2\n",
            "sample: 2\n",
            "text: 1\n",
            "file: 2\n",
            "for: 1\n",
            "testing: 1\n",
            "word: 1\n",
            "frequency: 1\n",
            "counting: 1\n"
          ]
        }
      ]
    },
    {
      "cell_type": "markdown",
      "source": [
        "Explaination"
      ],
      "metadata": {
        "id": "qhCyVqO4OkCL"
      }
    },
    {
      "cell_type": "markdown",
      "source": [
        "Import necessary libraries:\n",
        "import re: This line imports the regular expression module, which is used here for removing punctuation.\n",
        "from collections import Counter: This line imports the Counter class from the collections module. Counter is a specialized dictionary subclass that is very useful for counting hashable objects.\n",
        "import os: This line imports the operating system module, which is used here to check if the dummy file exists and to remove it.\n",
        "Define the function count_word_frequencies(file_path):\n",
        "This defines a function named count_word_frequencies that takes one argument: file_path, which is the path to the text file you want to process.\n",
        "The docstring within triple quotes explains what the function does, its arguments, and what it returns.\n",
        "Initialize word_frequencies:\n",
        "word_frequencies = Counter(): This creates an empty Counter object. This object will store the words and their counts.\n",
        "Handle file reading with error handling:\n",
        "try...except FileNotFoundError...except Exception as e:: This block is used for error handling.\n",
        "The try block contains the code that might raise an error.\n",
        "FileNotFoundError: If the file specified by file_path is not found, a FileNotFoundError is caught, and an error message is printed.\n",
        "Exception as e: This catches any other potential errors that might occur during file processing, prints a generic error message, and includes the specific error e.\n",
        "with open(file_path, 'r', encoding='utf-8') as f:: This opens the file specified by file_path in read mode ('r'). The encoding='utf-8' ensures proper handling of various characters. The with statement ensures the file is automatically closed even if errors occur. The opened file object is assigned to the variable f.\n",
        "for line in f:: This loop iterates through each line in the opened file.\n",
        "Process each line:\n",
        "line = re.sub(r'[^\\w\\s]', '', line).lower(): This line processes each line.\n",
        "re.sub(r'[^\\w\\s]', '', line): This uses a regular expression to find any character that is not a word character (\\w) or whitespace character (\\s) and replaces it with an empty string (''). This effectively removes punctuation.\n",
        ".lower(): This converts the entire line to lowercase. This ensures that words like \"This\" and \"this\" are treated as the same word.\n",
        "words = line.split(): This splits the processed line into a list of individual words using whitespace as the delimiter.\n",
        "word_frequencies.update(words): This updates the word_frequencies counter by adding the words from the current words list. Counter automatically handles incrementing the count for existing words and adding new words with a count of 1.\n",
        "Return the word frequencies:\n",
        "return dict(word_frequencies): After processing all the lines, the function returns the word_frequencies Counter object converted back into a regular dictionary.\n",
        "Example Usage:\n",
        "dummy_file_content = \"\"\"...\"\"\": This creates a multi-line string with sample text.\n",
        "file_name = \"sample_text.txt\": This sets the name for the dummy file.\n",
        "with open(file_name, \"w\", encoding=\"utf-8\") as f: f.write(dummy_file_content): This creates the dummy text file named \"sample_text.txt\" in write mode (\"w\") and writes the dummy_file_content to it.\n",
        "if os.path.exists(file_name):: This checks if the dummy file was successfully created.\n",
        "frequencies = count_word_frequencies(file_name): If the file exists, it calls the count_word_frequencies function with the dummy file's name as input and stores the returned frequency dictionary in the frequencies variable.\n",
        "if frequencies:: This checks if the count_word_frequencies function returned a dictionary (it would return None if there was an error).\n",
        "print(f\"Word frequencies in '{file_name}':\"): If frequencies were successfully obtained, it prints a header.\n",
        "for word, frequency in frequencies.items(): print(f\"{word}: {frequency}\"): This loop iterates through the key-value pairs (word and its frequency) in the frequencies dictionary and prints each word and its count.\n",
        "os.remove(file_name): This line removes the dummy text file after the frequencies have been processed.\n",
        "else: print(f\"Failed to create dummy file {file_name}\"): This block is executed if the dummy file was not created successfully.\n",
        "In summary, this code defines a reusable function to count word frequencies in a text file, including handling for potential file errors, and then demonstrates how to use it with a temporary dummy file.\n",
        "\n"
      ],
      "metadata": {
        "id": "qGM1bbP1OmCt"
      }
    },
    {
      "cell_type": "markdown",
      "source": [
        "Task 3"
      ],
      "metadata": {
        "id": "w5XcH6qYOufS"
      }
    },
    {
      "cell_type": "code",
      "source": [
        "Use Cursor AI to generate a Python class called Book with attributes title, author, and\n",
        "a method summary() that prints the details."
      ],
      "metadata": {
        "id": "ZYVGa0MxOwxv"
      },
      "execution_count": null,
      "outputs": []
    },
    {
      "cell_type": "code",
      "metadata": {
        "colab": {
          "base_uri": "https://localhost:8080/"
        },
        "id": "55b3cfe4",
        "outputId": "9e115482-f86e-477f-eb12-885f1c080e8c"
      },
      "source": [
        "class Book:\n",
        "  \"\"\"Represents a book with a title and author.\"\"\"\n",
        "\n",
        "  def __init__(self, title, author):\n",
        "    \"\"\"Initializes a new Book object.\n",
        "\n",
        "    Args:\n",
        "      title: The title of the book.\n",
        "      author: The author of the book.\n",
        "    \"\"\"\n",
        "    self.title = title\n",
        "    self.author = author\n",
        "\n",
        "  def summary(self):\n",
        "    \"\"\"Prints the details of the book.\"\"\"\n",
        "    print(f\"Title: {self.title}\")\n",
        "    print(f\"Author: {self.author}\")\n",
        "\n",
        "# Example usage:\n",
        "my_book = Book(\"The Hitchhiker's Guide to the Galaxy\", \"Douglas Adams\")\n",
        "my_book.summary()"
      ],
      "execution_count": 6,
      "outputs": [
        {
          "output_type": "stream",
          "name": "stdout",
          "text": [
            "Title: The Hitchhiker's Guide to the Galaxy\n",
            "Author: Douglas Adams\n"
          ]
        }
      ]
    },
    {
      "cell_type": "markdown",
      "source": [
        "Explaination"
      ],
      "metadata": {
        "id": "QkVYOdv5PFgU"
      }
    },
    {
      "cell_type": "markdown",
      "source": [
        "class Book:: This line defines a new class named Book. Classes are blueprints for creating objects (in this case, objects representing books).\n",
        "\"\"\"Represents a book with a title and author.\"\"\": This is a docstring for the class. It briefly explains what the Book class is intended to represent.\n",
        "def __init__(self, title, author):: This is the constructor method of the class. It's a special method that gets called when you create a new Book object.\n",
        "self: This refers to the instance of the class being created.\n",
        "title and author: These are parameters that you pass when you create a Book object (e.g., Book(\"Title Here\", \"Author Name\")).\n",
        "\"\"\"Initializes a new Book object...\"\"\": This is the docstring for the __init__ method, explaining its purpose and arguments.\n",
        "self.title = title: This line takes the value passed for the title parameter and assigns it to an attribute of the object called title.\n",
        "self.author = author: Similarly, this line takes the value passed for the author parameter and assigns it to an attribute of the object called author.\n",
        "def summary(self):: This defines a method within the Book class called summary. Methods are functions that belong to a class and operate on the objects created from that class.\n",
        "self: Again, this refers to the instance of the class that the method is being called on.\n",
        "\"\"\"Prints the details of the book.\"\"\": This is the docstring for the summary method, explaining what it does.\n",
        "print(f\"Title: {self.title}\"): This line prints the title of the book using an f-string to include the value of the self.title attribute.\n",
        "print(f\"Author: {self.author}\"): This line prints the author of the book using an f-string to include the value of the self.author attribute.\n",
        "# Example usage:: This is a comment indicating the following lines demonstrate how to use the class.\n",
        "my_book = Book(\"The Hitchhiker's Guide to the Galaxy\", \"Douglas Adams\"): This line creates a new instance (an object) of the Book class. It calls the __init__ method, passing \"The Hitchhiker's Guide to the Galaxy\" as the title and \"Douglas Adams\" as the author. This new object is assigned to the variable my_book.\n",
        "my_book.summary(): This line calls the summary() method on the my_book object. This executes the code within the summary method, printing the title and author of my_book.\n",
        "In summary, this code defines a template for creating book objects, allowing you to store the title and author for each book and easily print those details using the summary method.\n",
        "\n"
      ],
      "metadata": {
        "id": "zNiD-eO5PIaw"
      }
    },
    {
      "cell_type": "markdown",
      "source": [
        "Task 4"
      ],
      "metadata": {
        "id": "ksFdDhugPNpz"
      }
    },
    {
      "cell_type": "code",
      "source": [
        "Ask Gemini to write a program that checks whether a number is an Armstrong\n",
        "number, and then modify it using Cursor AI to improve performance or structure."
      ],
      "metadata": {
        "id": "AZjwIuBpPQ3t"
      },
      "execution_count": null,
      "outputs": []
    },
    {
      "cell_type": "markdown",
      "metadata": {
        "id": "f789275d"
      },
      "source": [
        "# Task\n",
        "Write a program that checks whether a number is an Armstrong number, and then modify it using Cursor AI to improve performance or structure."
      ]
    },
    {
      "cell_type": "markdown",
      "metadata": {
        "id": "7b4083e9"
      },
      "source": [
        "## Generate initial code\n",
        "\n",
        "### Subtask:\n",
        "Generate Python code that checks if a number is an Armstrong number.\n"
      ]
    },
    {
      "cell_type": "markdown",
      "metadata": {
        "id": "85deb382"
      },
      "source": [
        "**Reasoning**:\n",
        "Generate a Python function to check if a number is an Armstrong number, including example usage.\n",
        "\n"
      ]
    },
    {
      "cell_type": "code",
      "metadata": {
        "colab": {
          "base_uri": "https://localhost:8080/"
        },
        "id": "fb99768c",
        "outputId": "82c8767d-a7bf-4a40-a812-764be22ce799"
      },
      "source": [
        "def is_armstrong_number(number):\n",
        "  \"\"\"Checks if a number is an Armstrong number.\n",
        "\n",
        "  Args:\n",
        "    number: An integer.\n",
        "\n",
        "  Returns:\n",
        "    True if the number is an Armstrong number, False otherwise.\n",
        "  \"\"\"\n",
        "  # Calculate the number of digits\n",
        "  num_str = str(number)\n",
        "  num_digits = len(num_str)\n",
        "\n",
        "  # Calculate the sum of each digit raised to the power of the number of digits\n",
        "  armstrong_sum = 0\n",
        "  for digit in num_str:\n",
        "    armstrong_sum += int(digit) ** num_digits\n",
        "\n",
        "  # Compare the sum with the original number\n",
        "  return armstrong_sum == number\n",
        "\n",
        "# Example usage:\n",
        "test_numbers = [153, 9, 370, 371, 407, 1634, 100]\n",
        "for num in test_numbers:\n",
        "  if is_armstrong_number(num):\n",
        "    print(f\"{num} is an Armstrong number\")\n",
        "  else:\n",
        "    print(f\"{num} is not an Armstrong number\")"
      ],
      "execution_count": 7,
      "outputs": [
        {
          "output_type": "stream",
          "name": "stdout",
          "text": [
            "153 is an Armstrong number\n",
            "9 is an Armstrong number\n",
            "370 is an Armstrong number\n",
            "371 is an Armstrong number\n",
            "407 is an Armstrong number\n",
            "1634 is an Armstrong number\n",
            "100 is not an Armstrong number\n"
          ]
        }
      ]
    },
    {
      "cell_type": "markdown",
      "metadata": {
        "id": "41043bfa"
      },
      "source": [
        "## Explain initial code\n",
        "\n",
        "### Subtask:\n",
        "Explain the generated Armstrong number checking code.\n"
      ]
    },
    {
      "cell_type": "markdown",
      "metadata": {
        "id": "23bcda55"
      },
      "source": [
        "**Reasoning**:\n",
        "Provide an explanation for the generated Python code that checks if a number is an Armstrong number.\n",
        "\n"
      ]
    },
    {
      "cell_type": "code",
      "metadata": {
        "colab": {
          "base_uri": "https://localhost:8080/"
        },
        "id": "866e9cb4",
        "outputId": "325c82db-617a-4819-97d3-6627dcf92ed8"
      },
      "source": [
        "print(\"\"\"Explanation of the Armstrong number checking code:\n",
        "\n",
        "The code defines a function `is_armstrong_number` that takes an integer `number` as input and returns `True` if it's an Armstrong number, and `False` otherwise.\n",
        "\n",
        "1.  **Function Definition:**\n",
        "    -   `def is_armstrong_number(number):` defines the function that performs the check.\n",
        "    -   The docstring explains the function's purpose, arguments, and return value.\n",
        "\n",
        "2.  **Digit Counting:**\n",
        "    -   `num_str = str(number)` converts the input number to a string to easily access individual digits.\n",
        "    -   `num_digits = len(num_str)` calculates the number of digits in the number, which is the power to which each digit will be raised.\n",
        "\n",
        "3.  **Sum Calculation:**\n",
        "    -   `armstrong_sum = 0` initializes a variable to store the sum of the digits raised to the power of `num_digits`.\n",
        "    -   `for digit in num_str:` iterates through each character (digit) in the `num_str`.\n",
        "    -   `armstrong_sum += int(digit) ** num_digits` converts each digit character back to an integer (`int(digit)`) and raises it to the power of `num_digits`. This result is then added to the `armstrong_sum`.\n",
        "\n",
        "4.  **Comparison:**\n",
        "    -   `return armstrong_sum == number` compares the calculated `armstrong_sum` with the original `number`. If they are equal, the number is an Armstrong number, and the function returns `True`; otherwise, it returns `False`.\n",
        "\n",
        "5.  **Example Usage:**\n",
        "    -   `test_numbers = [153, 9, 370, 371, 407, 1634, 100]` creates a list of numbers to test.\n",
        "    -   `for num in test_numbers:` loops through each number in the `test_numbers` list.\n",
        "    -   `if is_armstrong_number(num):` calls the `is_armstrong_number` function for the current number.\n",
        "    -   The `if` and `else` blocks print whether the number is an Armstrong number based on the function's return value.\n",
        "\"\"\")"
      ],
      "execution_count": 8,
      "outputs": [
        {
          "output_type": "stream",
          "name": "stdout",
          "text": [
            "Explanation of the Armstrong number checking code:\n",
            "\n",
            "The code defines a function `is_armstrong_number` that takes an integer `number` as input and returns `True` if it's an Armstrong number, and `False` otherwise.\n",
            "\n",
            "1.  **Function Definition:**\n",
            "    -   `def is_armstrong_number(number):` defines the function that performs the check.\n",
            "    -   The docstring explains the function's purpose, arguments, and return value.\n",
            "\n",
            "2.  **Digit Counting:**\n",
            "    -   `num_str = str(number)` converts the input number to a string to easily access individual digits.\n",
            "    -   `num_digits = len(num_str)` calculates the number of digits in the number, which is the power to which each digit will be raised.\n",
            "\n",
            "3.  **Sum Calculation:**\n",
            "    -   `armstrong_sum = 0` initializes a variable to store the sum of the digits raised to the power of `num_digits`.\n",
            "    -   `for digit in num_str:` iterates through each character (digit) in the `num_str`.\n",
            "    -   `armstrong_sum += int(digit) ** num_digits` converts each digit character back to an integer (`int(digit)`) and raises it to the power of `num_digits`. This result is then added to the `armstrong_sum`.\n",
            "\n",
            "4.  **Comparison:**\n",
            "    -   `return armstrong_sum == number` compares the calculated `armstrong_sum` with the original `number`. If they are equal, the number is an Armstrong number, and the function returns `True`; otherwise, it returns `False`.\n",
            "\n",
            "5.  **Example Usage:**\n",
            "    -   `test_numbers = [153, 9, 370, 371, 407, 1634, 100]` creates a list of numbers to test.\n",
            "    -   `for num in test_numbers:` loops through each number in the `test_numbers` list.\n",
            "    -   `if is_armstrong_number(num):` calls the `is_armstrong_number` function for the current number.\n",
            "    -   The `if` and `else` blocks print whether the number is an Armstrong number based on the function's return value.\n",
            "\n"
          ]
        }
      ]
    },
    {
      "cell_type": "markdown",
      "metadata": {
        "id": "acdec624"
      },
      "source": [
        "## Modify code\n",
        "\n",
        "### Subtask:\n",
        "Modify the generated code to improve performance or structure.\n"
      ]
    },
    {
      "cell_type": "markdown",
      "metadata": {
        "id": "7072805a"
      },
      "source": [
        "**Reasoning**:\n",
        "Refactor the `is_armstrong_number` function to use mathematical operations instead of string conversion for digit extraction and keep the existing example usage.\n",
        "\n"
      ]
    },
    {
      "cell_type": "code",
      "metadata": {
        "colab": {
          "base_uri": "https://localhost:8080/"
        },
        "id": "066bd0ce",
        "outputId": "666e8d41-6827-42d8-b42f-4b6c809ef7b5"
      },
      "source": [
        "def is_armstrong_number(number):\n",
        "  \"\"\"Checks if a number is an Armstrong number using mathematical operations.\n",
        "\n",
        "  Args:\n",
        "    number: An integer.\n",
        "\n",
        "  Returns:\n",
        "    True if the number is an Armstrong number, False otherwise.\n",
        "  \"\"\"\n",
        "  original_number = number\n",
        "  num_digits = 0\n",
        "  temp_number = number\n",
        "\n",
        "  # Calculate the number of digits using logarithms (more efficient for large numbers)\n",
        "  if number == 0:\n",
        "      num_digits = 1\n",
        "  else:\n",
        "      import math\n",
        "      num_digits = int(math.log10(abs(number))) + 1 if number != 0 else 1 #Handle negative numbers\n",
        "\n",
        "  armstrong_sum = 0\n",
        "  temp_number = abs(number) # work with absolute value to handle negative numbers\n",
        "  while temp_number > 0:\n",
        "    digit = temp_number % 10\n",
        "    armstrong_sum += digit ** num_digits\n",
        "    temp_number //= 10\n",
        "\n",
        "  # Compare the sum with the original number\n",
        "  return armstrong_sum == original_number\n",
        "\n",
        "# Example usage:\n",
        "test_numbers = [153, 9, 370, 371, 407, 1634, 100, -153] # Add a negative number test case\n",
        "for num in test_numbers:\n",
        "  if is_armstrong_number(num):\n",
        "    print(f\"{num} is an Armstrong number\")\n",
        "  else:\n",
        "    print(f\"{num} is not an Armstrong number\")"
      ],
      "execution_count": 9,
      "outputs": [
        {
          "output_type": "stream",
          "name": "stdout",
          "text": [
            "153 is an Armstrong number\n",
            "9 is an Armstrong number\n",
            "370 is an Armstrong number\n",
            "371 is an Armstrong number\n",
            "407 is an Armstrong number\n",
            "1634 is an Armstrong number\n",
            "100 is not an Armstrong number\n",
            "-153 is not an Armstrong number\n"
          ]
        }
      ]
    },
    {
      "cell_type": "markdown",
      "metadata": {
        "id": "6d188fd0"
      },
      "source": [
        "## Explain modified code\n",
        "\n",
        "### Subtask:\n",
        "Explain the changes made in the modified code.\n"
      ]
    },
    {
      "cell_type": "markdown",
      "metadata": {
        "id": "ad5735a1"
      },
      "source": [
        "**Reasoning**:\n",
        "Generate a markdown explanation of the changes made in the modified code, focusing on the requested points.\n",
        "\n"
      ]
    },
    {
      "cell_type": "code",
      "metadata": {
        "colab": {
          "base_uri": "https://localhost:8080/"
        },
        "id": "04bb3114",
        "outputId": "b1ae5145-9e1c-4cab-e41a-3fd8b488a30f"
      },
      "source": [
        "print(\"\"\"## Explanation of Changes in the Modified `is_armstrong_number` Function\n",
        "\n",
        "The modified `is_armstrong_number` function introduces several changes to improve its structure and handle additional cases:\n",
        "\n",
        "1.  **Digit Extraction using Mathematical Operations:**\n",
        "    -   The original code converted the number to a string to iterate through its digits.\n",
        "    -   The modified code now extracts digits using mathematical operations:\n",
        "        -   `digit = temp_number % 10` gets the last digit of the `temp_number`.\n",
        "        -   `temp_number //= 10` performs integer division to remove the last digit from `temp_number`.\n",
        "    -   This approach can be more performant for very large numbers as it avoids the overhead of string conversion and iteration.\n",
        "\n",
        "2.  **Handling Negative Numbers:**\n",
        "    -   The original code did not explicitly handle negative numbers, which are typically not considered Armstrong numbers in the standard definition.\n",
        "    -   The modified code now includes handling for negative numbers.\n",
        "    -   The `temp_number` is set to the absolute value of the input number (`temp_number = abs(number)`) to ensure the digit extraction logic works correctly for both positive and negative inputs. The final comparison is still done against the `original_number`.\n",
        "\n",
        "3.  **Potentially More Efficient Digit Counting:**\n",
        "    -   The original code counted digits by getting the length of the string representation.\n",
        "    -   The modified code uses `math.log10(abs(number))` to calculate the number of digits. This can be more efficient for larger numbers than converting to a string and getting its length.\n",
        "    -   An edge case for the number 0 is handled explicitly (`if number == 0: num_digits = 1`) because `log10(0)` is undefined.\n",
        "    -   The calculation `int(math.log10(abs(number))) + 1` correctly determines the number of digits for positive numbers.\n",
        "\n",
        "4.  **Purpose of `original_number`:**\n",
        "    -   A new variable `original_number` is introduced to store the initial value of the input `number`.\n",
        "    -   This is necessary because the `temp_number` is modified during the digit extraction process (`temp_number //= 10`).\n",
        "    -   The final comparison to check if it's an Armstrong number must be done against the original, unmodified input.\n",
        "\n",
        "5.  **Changes in Example Usage:**\n",
        "    -   The example usage now includes a negative number (`-153`) in the `test_numbers` list.\n",
        "    -   This demonstrates how the modified function handles negative inputs, which was not covered in the original example.\n",
        "\"\"\")"
      ],
      "execution_count": 10,
      "outputs": [
        {
          "output_type": "stream",
          "name": "stdout",
          "text": [
            "## Explanation of Changes in the Modified `is_armstrong_number` Function\n",
            "\n",
            "The modified `is_armstrong_number` function introduces several changes to improve its structure and handle additional cases:\n",
            "\n",
            "1.  **Digit Extraction using Mathematical Operations:**\n",
            "    -   The original code converted the number to a string to iterate through its digits.\n",
            "    -   The modified code now extracts digits using mathematical operations:\n",
            "        -   `digit = temp_number % 10` gets the last digit of the `temp_number`.\n",
            "        -   `temp_number //= 10` performs integer division to remove the last digit from `temp_number`.\n",
            "    -   This approach can be more performant for very large numbers as it avoids the overhead of string conversion and iteration.\n",
            "\n",
            "2.  **Handling Negative Numbers:**\n",
            "    -   The original code did not explicitly handle negative numbers, which are typically not considered Armstrong numbers in the standard definition.\n",
            "    -   The modified code now includes handling for negative numbers.\n",
            "    -   The `temp_number` is set to the absolute value of the input number (`temp_number = abs(number)`) to ensure the digit extraction logic works correctly for both positive and negative inputs. The final comparison is still done against the `original_number`.\n",
            "\n",
            "3.  **Potentially More Efficient Digit Counting:**\n",
            "    -   The original code counted digits by getting the length of the string representation.\n",
            "    -   The modified code uses `math.log10(abs(number))` to calculate the number of digits. This can be more efficient for larger numbers than converting to a string and getting its length.\n",
            "    -   An edge case for the number 0 is handled explicitly (`if number == 0: num_digits = 1`) because `log10(0)` is undefined.\n",
            "    -   The calculation `int(math.log10(abs(number))) + 1` correctly determines the number of digits for positive numbers.\n",
            "\n",
            "4.  **Purpose of `original_number`:**\n",
            "    -   A new variable `original_number` is introduced to store the initial value of the input `number`.\n",
            "    -   This is necessary because the `temp_number` is modified during the digit extraction process (`temp_number //= 10`).\n",
            "    -   The final comparison to check if it's an Armstrong number must be done against the original, unmodified input.\n",
            "\n",
            "5.  **Changes in Example Usage:**\n",
            "    -   The example usage now includes a negative number (`-153`) in the `test_numbers` list.\n",
            "    -   This demonstrates how the modified function handles negative inputs, which was not covered in the original example.\n",
            "\n"
          ]
        }
      ]
    },
    {
      "cell_type": "markdown",
      "metadata": {
        "id": "cf1eb53e"
      },
      "source": [
        "## Summary:\n",
        "\n",
        "### Data Analysis Key Findings\n",
        "\n",
        "*   The initial Python code successfully implemented a function `is_armstrong_number` that correctly identifies Armstrong numbers by converting the number to a string, iterating through digits, and calculating the sum of each digit raised to the power of the number of digits.\n",
        "*   The modified code improved the `is_armstrong_number` function by using mathematical operations (modulo and integer division) for digit extraction, which can be more performant for very large numbers compared to string conversion.\n",
        "*   The modified code also added handling for negative numbers by working with the absolute value during digit extraction and introduced the use of `math.log10` for potentially more efficient digit counting for larger numbers.\n",
        "*   A new variable `original_number` was introduced in the modified code to preserve the original value of the input number for the final comparison, as the `temp_number` is altered during the digit extraction process.\n",
        "*   The example usage in the modified code was updated to include a negative number (`-153`) to demonstrate the function's handling of such cases.\n",
        "\n",
        "### Insights or Next Steps\n",
        "\n",
        "*   The modification from string manipulation to mathematical operations provides a more robust and potentially more performant solution, especially for handling very large numbers.\n",
        "*   Future steps could involve benchmarking the two versions of the `is_armstrong_number` function with a range of inputs to quantify the performance improvement, particularly for very large numbers.\n"
      ]
    },
    {
      "cell_type": "markdown",
      "source": [
        "Task 5"
      ],
      "metadata": {
        "id": "2530tU2cP5x9"
      }
    },
    {
      "cell_type": "code",
      "source": [
        "Use both Gemini and Cursor AI to generate code for sorting a list of dictionaries by a\n",
        "specific key (e.g., age)."
      ],
      "metadata": {
        "id": "JXfVpvrnP7m4"
      },
      "execution_count": null,
      "outputs": []
    },
    {
      "cell_type": "markdown",
      "metadata": {
        "id": "f32b23d8"
      },
      "source": [
        "**Reasoning**:\n",
        "Generate a Python code snippet that demonstrates sorting a list of dictionaries by a specified key using the `sorted()` function with a `lambda` function as the key. Include example usage."
      ]
    },
    {
      "cell_type": "code",
      "metadata": {
        "colab": {
          "base_uri": "https://localhost:8080/"
        },
        "id": "836f23fa",
        "outputId": "4d59f294-db82-43dc-f800-4d791dbb07c6"
      },
      "source": [
        "# Initial code generated by Gemini\n",
        "\n",
        "def sort_list_of_dicts(list_of_dicts, key_to_sort_by):\n",
        "  \"\"\"Sorts a list of dictionaries by a specified key.\n",
        "\n",
        "  Args:\n",
        "    list_of_dicts: A list of dictionaries.\n",
        "    key_to_sort_by: The key to sort the dictionaries by.\n",
        "\n",
        "  Returns:\n",
        "    A new list of dictionaries sorted by the specified key.\n",
        "  \"\"\"\n",
        "  return sorted(list_of_dicts, key=lambda x: x[key_to_sort_by])\n",
        "\n",
        "# Example usage:\n",
        "people = [\n",
        "    {'name': 'Alice', 'age': 30},\n",
        "    {'name': 'Bob', 'age': 25},\n",
        "    {'name': 'Charlie', 'age': 35},\n",
        "    {'name': 'David', 'age': 25},\n",
        "]\n",
        "\n",
        "sorted_people = sort_list_of_dicts(people, 'age')\n",
        "print(\"Sorted by age:\")\n",
        "for person in sorted_people:\n",
        "  print(person)\n",
        "\n",
        "sorted_people_by_name = sort_list_of_dicts(people, 'name')\n",
        "print(\"\\nSorted by name:\")\n",
        "for person in sorted_people_by_name:\n",
        "  print(person)"
      ],
      "execution_count": 11,
      "outputs": [
        {
          "output_type": "stream",
          "name": "stdout",
          "text": [
            "Sorted by age:\n",
            "{'name': 'Bob', 'age': 25}\n",
            "{'name': 'David', 'age': 25}\n",
            "{'name': 'Alice', 'age': 30}\n",
            "{'name': 'Charlie', 'age': 35}\n",
            "\n",
            "Sorted by name:\n",
            "{'name': 'Alice', 'age': 30}\n",
            "{'name': 'Bob', 'age': 25}\n",
            "{'name': 'Charlie', 'age': 35}\n",
            "{'name': 'David', 'age': 25}\n"
          ]
        }
      ]
    },
    {
      "cell_type": "markdown",
      "source": [
        "Explaination"
      ],
      "metadata": {
        "id": "C7SdValYQOEX"
      }
    },
    {
      "cell_type": "markdown",
      "source": [
        "def sort_list_of_dicts(list_of_dicts, key_to_sort_by):: This defines a function named sort_list_of_dicts that takes two arguments:\n",
        "list_of_dicts: This is the list of dictionaries you want to sort.\n",
        "key_to_sort_by: This is a string representing the key within each dictionary that you want to use for sorting (e.g., 'age', 'name').\n",
        "\"\"\"Sorts a list of dictionaries by a specified key....\"\"\": This is a docstring explaining the function's purpose, arguments, and what it returns.\n",
        "return sorted(list_of_dicts, key=lambda x: x[key_to_sort_by]): This is the core of the sorting logic.\n",
        "sorted(): This is a built-in Python function that returns a new sorted list from the items in an iterable (in this case, list_of_dicts).\n",
        "list_of_dicts: This is the list being sorted.\n",
        "key=lambda x: x[key_to_sort_by]: This is the crucial part that tells sorted() how to sort the dictionaries.\n",
        "key=: This argument specifies a function of one argument that is used to extract a comparison key from each list element.\n",
        "lambda x: x[key_to_sort_by]: This is a small anonymous function (a lambda function).\n",
        "x: This represents each individual dictionary in the list_of_dicts as sorted() iterates through them.\n",
        "x[key_to_sort_by]: This accesses the value associated with the key_to_sort_by (e.g., the age or name) within each dictionary x. The sorted() function then uses these extracted values to determine the sorting order.\n",
        "# Example usage:: This section demonstrates how to use the sort_list_of_dicts function.\n",
        "people = [...]: This creates a sample list of dictionaries, where each dictionary represents a person with 'name' and 'age' keys.\n",
        "sorted_people = sort_list_of_dicts(people, 'age'): This calls the function to sort the people list based on the 'age' key and stores the resulting sorted list in sorted_people.\n",
        "print(\"Sorted by age:\"): Prints a header.\n",
        "for person in sorted_people: print(person): This loop iterates through the sorted_people list and prints each sorted dictionary.\n",
        "sorted_people_by_name = sort_list_of_dicts(people, 'name'): This calls the function again to sort the original people list based on the 'name' key and stores the result in sorted_people_by_name.\n",
        "print(\"\\nSorted by name:\"): Prints another header.\n",
        "for person in sorted_people_by_name: print(person): This loop iterates through the sorted_people_by_name list and prints each sorted dictionary.\n",
        "In essence, the code defines a flexible function that can take any list of dictionaries and sort it based on the value of a specified key within those dictionaries, leveraging Python's built-in sorted() function and a lambda for concise key extraction.\n",
        "\n"
      ],
      "metadata": {
        "id": "ts18XxoAQQAe"
      }
    }
  ]
}