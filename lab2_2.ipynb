{
  "nbformat": 4,
  "nbformat_minor": 0,
  "metadata": {
    "colab": {
      "provenance": [],
      "authorship_tag": "ABX9TyO7p1mOubaYfWnc2nPz1kzc",
      "include_colab_link": true
    },
    "kernelspec": {
      "name": "python3",
      "display_name": "Python 3"
    },
    "language_info": {
      "name": "python"
    }
  },
  "cells": [
    {
      "cell_type": "markdown",
      "metadata": {
        "id": "view-in-github",
        "colab_type": "text"
      },
      "source": [
        "<a href=\"https://colab.research.google.com/github/hasini0306/AIAC/blob/main/lab2_2.ipynb\" target=\"_parent\"><img src=\"https://colab.research.google.com/assets/colab-badge.svg\" alt=\"Open In Colab\"/></a>"
      ]
    },
    {
      "cell_type": "markdown",
      "source": [],
      "metadata": {
        "id": "RsYgrCdlIAmH"
      }
    },
    {
      "cell_type": "markdown",
      "source": [
        "check given number is prime or not"
      ],
      "metadata": {
        "id": "QC9a6nKXICyE"
      }
    },
    {
      "cell_type": "code",
      "execution_count": null,
      "metadata": {
        "id": "iZ0v0dlkH1f6"
      },
      "outputs": [],
      "source": []
    },
    {
      "cell_type": "code",
      "metadata": {
        "colab": {
          "base_uri": "https://localhost:8080/"
        },
        "id": "71b0ef5f",
        "outputId": "2b5b752d-0382-49ba-ded7-9c9b0898d3a6"
      },
      "source": [
        "def is_prime(num):\n",
        "  \"\"\"Checks if a given number is prime.\"\"\"\n",
        "  if num <= 1:\n",
        "    return False  # Numbers less than or equal to 1 are not prime\n",
        "  for i in range(2, int(num**0.5) + 1):\n",
        "    if num % i == 0:\n",
        "      return False  # If divisible by any number between 2 and sqrt(num), it's not prime\n",
        "  return True  # Otherwise, it's prime\n",
        "\n",
        "# Example usage:\n",
        "number_to_check = 17\n",
        "if is_prime(number_to_check):\n",
        "  print(f\"{number_to_check} is a prime number.\")\n",
        "else:\n",
        "  print(f\"{number_to_check} is not a prime number.\")"
      ],
      "execution_count": null,
      "outputs": [
        {
          "output_type": "stream",
          "name": "stdout",
          "text": [
            "17 is a prime number.\n"
          ]
        }
      ]
    },
    {
      "cell_type": "markdown",
      "source": [
        "explaination\n"
      ],
      "metadata": {
        "id": "_IOiCe6SIzvx"
      }
    }
  ]
}